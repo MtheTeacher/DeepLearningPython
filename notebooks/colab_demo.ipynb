{
 "cells": [
  {
   "cell_type": "markdown",
   "metadata": {},
   "source": [
    "# Deep Learning Python – Colab demo\n",
    "Use this notebook inside Google Colab to run the classroom trainer with fake data for a quick sanity check."
   ]
  },
  {
   "cell_type": "markdown",
   "metadata": {},
   "source": [
    "## 1. Install the package\n",
    "Replace `<REPO_OWNER>` with the GitHub owner for your fork if you are not using the upstream project."
   ]
  },
  {
   "cell_type": "code",
   "execution_count": null,
   "metadata": {
    "id": "install"
   },
   "outputs": [],
   "source": [
    "!pip install --quiet torch torchvision\n",
    "!pip install --quiet git+https://github.com/<REPO_OWNER>/DeepLearningPython.git"
   ]
  },
  {
   "cell_type": "markdown",
   "metadata": {},
   "source": [
    "## 2. (Optional) Mount Google Drive for persistent checkpoints\n",
    "Skip this cell if you are happy to keep artifacts in the ephemeral `/content` workspace."
   ]
  },
  {
   "cell_type": "code",
   "execution_count": null,
   "metadata": {
    "id": "mount"
   },
   "outputs": [],
   "source": [
    "from pathlib import Path\n",
    "from google.colab import drive\n",
    "\n",
    "drive.mount('/content/drive')\n",
    "# checkpoints_dir = Path('/content/drive/MyDrive/dlp_checkpoints')\n",
    "# checkpoints_dir.mkdir(parents=True, exist_ok=True)"
   ]
  },
  {
   "cell_type": "markdown",
   "metadata": {},
   "source": [
    "## 3. Run a short training loop\n",
    "`run_notebook_training` disables the Rich live dashboard automatically and returns a pandas DataFrame when `return_dataframe=True`."
   ]
  },
  {
   "cell_type": "code",
   "execution_count": null,
   "metadata": {
    "id": "train"
   },
   "outputs": [],
   "source": [
    "from pathlib import Path\n",
    "from deeplearning_python import run_notebook_training\n",
    "\n",
    "result = run_notebook_training(\n",
    "    epochs=1,\n",
    "    batch_size=64,\n",
    "    val_batch_size=64,\n",
    "    learning_rate=0.05,\n",
    "    optimizer=\"sgd\",\n",
    "    fake_data=True,\n",
    "    data_dir=Path(\"/content/data\"),\n",
    "    log_dir=Path(\"/content/logs\"),\n",
    "    checkpoint_dir=Path(\"/content/checkpoints\"),\n",
    "    limit_train_batches=2,\n",
    "    limit_val_batches=1,\n",
    "    limit_train_samples=256,\n",
    "    limit_val_samples=128,\n",
    "    checkpoint_interval=0,\n",
    "    preview_interval=0,\n",
    "    return_dataframe=True,\n",
    ")\n",
    "metrics_df = result[\"metrics\"]\n",
    "metrics_df.head()"
   ]
  },
  {
   "cell_type": "markdown",
   "metadata": {},
   "source": [
    "## 4. Plot metrics\n",
    "Metrics and checkpoints are written to `/content/logs` and `/content/checkpoints` unless you override the paths above."
   ]
  },
  {
   "cell_type": "code",
   "execution_count": null,
   "metadata": {
    "id": "plot"
   },
   "outputs": [],
   "source": [
    "import matplotlib.pyplot as plt\n",
    "\n",
    "plt.figure(figsize=(8, 4))\n",
    "plt.plot(metrics_df['step'], metrics_df['loss'], label='loss')\n",
    "plt.plot(metrics_df['step'], metrics_df['accuracy'], label='accuracy')\n",
    "plt.xlabel('Step')\n",
    "plt.legend()\n",
    "plt.title('Training metrics')\n",
    "plt.show()\n",
    "\n",
    "result['log_path'], result['checkpoint_dir']"
   ]
  }
 ],
 "metadata": {
  "kernelspec": {
   "display_name": "Python 3",
   "language": "python",
   "name": "python3"
  },
  "language_info": {
   "name": "python",
   "version": "3.10"
  }
 },
 "nbformat": 4,
 "nbformat_minor": 5
}
